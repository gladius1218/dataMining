{
 "cells": [
  {
   "cell_type": "markdown",
   "metadata": {},
   "source": [
    "(In order to load the stylesheet of this notebook, execute the last code cell in this notebook)"
   ]
  },
  {
   "cell_type": "markdown",
   "metadata": {},
   "source": [
    "# Recommender System for Amazon Electronics"
   ]
  },
  {
   "cell_type": "markdown",
   "metadata": {},
   "source": [
    "In this assignment, we will be working with the [Amazon dataset](http://cs-people.bu.edu/kzhao/teaching/amazon_reviews_Electronics.tar.gz). You will build a recommender system to make predictions related to reviews of Electronics products on Amazon.\n",
    "\n",
    "Your grades will be determined by your performance on the predictive tasks as well as a brief written report about the approaches you took.\n",
    "\n",
    "This assignment should be completed **individually**."
   ]
  },
  {
   "cell_type": "markdown",
   "metadata": {},
   "source": [
    "## Files"
   ]
  },
  {
   "cell_type": "markdown",
   "metadata": {},
   "source": [
    "**train.json** 1,000,000 reviews to be used for training. It is not necessary to use all reviews for training if doing so proves too computationally intensive. The fields in this file are:\n",
    "\n",
    "* **reviewerID** The ID of the reviewer. This is a hashed user identifier from Amazon.\n",
    "\n",
    "* **asin** The ID of the item. This is a hashed product identifier from Amazon.\n",
    "\n",
    "* **overall** The rating of reviewer gave the item.\n",
    "\n",
    "* **helpful** The helpfulness votes for the review. This has 2 subfields, 'nHelpful' and 'outOf'. The latter is the total number of votes this review received. The former is the number of those that considered the review to be helpful.\n",
    "\n",
    "* **reviewText** The text of the review.\n",
    "\n",
    "* **summary** The summary of the review.\n",
    "\n",
    "* **unixReviewTime** The time of the review in seconds since 1970."
   ]
  },
  {
   "cell_type": "markdown",
   "metadata": {},
   "source": [
    "**meta.json** Contains metadata of the items:\n",
    "\n",
    "* **asin** The ID of the item.\n",
    "\n",
    "* **categories** The category labels of the item being reviewed.\n",
    "\n",
    "* **price** The price of the item.\n",
    "\n",
    "* **brand** The brand of the item."
   ]
  },
  {
   "cell_type": "markdown",
   "metadata": {},
   "source": [
    "**pairs_Rating.txt** The pairs (reviewerID and asin) on which you are to predict ratings.\n",
    "\n",
    "**pairs_Purchase.txt** The pairs on which you are to predict whether a user purchased an item or not.\n",
    "\n",
    "**pairs_Helpful.txt** The pairs on which you are to predict helpfulness votes. A third column in this file is the total number of votes from which you should predict how many were helpful."
   ]
  },
  {
   "cell_type": "markdown",
   "metadata": {},
   "source": [
    "**helpful.json** The review data associated with the helpfulness prediction test set. The 'nHelpful' field has been removed from this data since that is the value you need to predict above. This data will only be of use for the helpfulness prediction task."
   ]
  },
  {
   "cell_type": "markdown",
   "metadata": {},
   "source": [
    "**baseline.py** A simple baseline for each task."
   ]
  },
  {
   "cell_type": "markdown",
   "metadata": {
    "collapsed": true
   },
   "source": [
    "## Tasks"
   ]
  },
  {
   "cell_type": "markdown",
   "metadata": {},
   "source": [
    "**Rating prediction** Predict people's star ratings as accurately as possible for those (reviewerID, asin) pairs in 'pairs_Rating.txt'. Accuracy will be measured in terms of the [root mean-squared error (RMSE)](http://www.kaggle.com/wiki/RootMeanSquaredError).\n",
    "\n",
    "**Purchase prediction** Predict given a (reviewerID, asin) pair from 'pairs_Purchase.txt' whether the user purchased the item (really, whether it was one of the items they reviewed). Accuracy will be measured in terms of the [categorization accuracy](http://www.kaggle.com/wiki/HammingLoss) (1 minus the Hamming loss).\n",
    "\n",
    "**Helpfulness prediction** Predic whether a user's review of an item will be considered helpful. The file 'pairs_Helpful.txt' contains (reviewerID, asin) pairs with a third column containing the number of votes the user's review of the item received. You must predict how many of them were helpful. Accuracy will be measured in terms of the total [absolute error](http://www.kaggle.com/wiki/AbsoluteError), i.e. you are penalized one according to the difference |nHelpful - prediction|, where 'nHelpful' is the number of helpful votes the review actually received, and 'prediction' is your prediction of this quantity.\n",
    "\n",
    "We set up competitions on Kaggle to keep track of your results compared to those of other members of the class. The leaderboard will show your results on half of the test data, but your ultimate score will depend on your predictions across the whole dataset.\n",
    "* Kaggle competition: [rating prediction](https://inclass.kaggle.com/c/cs591-hw3-rating-prediction3) click here to [join](https://kaggle.com/join/datascience16rating)\n",
    "* Kaggle competition: [purchase prediction](https://inclass.kaggle.com/c/cs591-hw3-purchase-prediction) click here to [join](https://kaggle.com/join/datascience16purchase)\n",
    "* Kaggle competition: [helpfulness prediction](https://inclass.kaggle.com/c/cs591-hw3-helpful-prediction2) click here to"
   ]
  },
  {
   "cell_type": "code",
   "execution_count": 2,
   "metadata": {
    "collapsed": true
   },
   "outputs": [],
   "source": [
    "from collections import defaultdict\n",
    "\n",
    "def readJson(f):\n",
    "    for l in open(f):\n",
    "        yield eval(l)"
   ]
  },
  {
   "cell_type": "code",
   "execution_count": 28,
   "metadata": {
    "collapsed": false
   },
   "outputs": [
    {
     "name": "stdout",
     "output_type": "stream",
     "text": [
      "1964 68802 5474 23760\n"
     ]
    }
   ],
   "source": [
    "#####################################\n",
    "#predictions_Rating\n",
    "#####################################\n",
    "\n",
    "allRatings = []\n",
    "userRatings = defaultdict(list)\n",
    "itemRatings = defaultdict(list)\n",
    "# read ratings for each user into dict\n",
    "for l in readJson('./amazon_reviews_Electronics/train.json'):\n",
    "    user,item,helpful = l['reviewerID'],l['asin'],l['helpful']['nHelpful']\n",
    "    allRatings.append(l['overall'])\n",
    "    userRatings[user] += [l['overall']] #* (helpful + 1)\n",
    "    itemRatings[item] += [l['overall']] #* (helpful + 1)\n",
    "\n",
    "globalAverage = sum(allRatings) / len(allRatings)\n",
    "userAverage = {}\n",
    "itemAverage = {}\n",
    "# calculate avg ratings for each user\n",
    "for u in userRatings:\n",
    "    userAverage[u] = sum(userRatings[u]) / len(userRatings[u])\n",
    "for i in itemRatings:\n",
    "    itemAverage[i] = sum(itemRatings[i]) / len(itemRatings[i])\n",
    "\n",
    "count = 0\n",
    "count_ui = 0\n",
    "count_u = 0\n",
    "count_i = 0\n",
    "#predict ratings according to pairs\n",
    "predictions = open(\"./amazon_reviews_Electronics/predictions_Rating.txt\", 'w')\n",
    "for l in open(\"./amazon_reviews_Electronics/pairs_Rating.txt\"):\n",
    "    if l.startswith(\"reviewerID\"):\n",
    "        #header\n",
    "        predictions.write(l)\n",
    "        continue\n",
    "    u,i = l.strip().split('-')\n",
    "    if u in userAverage:\n",
    "        if i in itemAverage:\n",
    "            count_ui += 1\n",
    "            #30-40-30\n",
    "            predictions.write(u + '-' + i + ',' + str(userAverage[u] * 0.3 + itemAverage[i] * 0.4 + globalAverage * 0.3) + '\\n')\n",
    "        else:\n",
    "            #20-80\n",
    "            count_u += 1\n",
    "            predictions.write(u + '-' + i + ',' + str(userAverage[u] * 0.2 + globalAverage * 0.8) + '\\n')\n",
    "    elif i in itemAverage:\n",
    "        #50-50\n",
    "        count_i += 1\n",
    "        predictions.write(u + '-' + i + ',' + str(itemAverage[i] * 0.5 + globalAverage * 0.5) + '\\n')\n",
    "    else:\n",
    "        count += 1\n",
    "        predictions.write(u + '-' + i + ',' + str(globalAverage - 0.2) + '\\n')\n",
    "print count, count_ui, count_u, count_i\n",
    "predictions.close()"
   ]
  },
  {
   "cell_type": "markdown",
   "metadata": {},
   "source": [
    "predictions_Rating:\n",
    "* for rating prediction, first I calculated item average based on training data, then I combine useraverage, itemaverage and global average as much as possible.  For example, some user-item pair might not have useraverage or itemaverage data, in this situation I just combine the data I have.  For those u-i pair that has neither itemaverage nor useraverage data, I still used globalaverage data, but based on the rule of competition, I calibrated globalAverage so that it will match the target dataset better."
   ]
  },
  {
   "cell_type": "code",
   "execution_count": null,
   "metadata": {
    "collapsed": false
   },
   "outputs": [],
   "source": [
    "#####################################\n",
    "#predictions_Purchase\n",
    "#####################################\n",
    "\n",
    "itemCount = defaultdict(int)\n",
    "totalPurchases = 0\n",
    "priceDict = {}\n",
    "#read perchase data for item, count how many time it's purchased\n",
    "for l in readJson('./amazon_reviews_Electronics/train.json'):\n",
    "    user,item = l['reviewerID'],l['asin']\n",
    "    itemCount[item] += int(l['overall'])\n",
    "    totalPurchases += int(l['overall'])\n",
    "# for line in readJson('./amazon_reviews_Electronics/meta.json'):\n",
    "#     if line['price'] == '':\n",
    "#         priceDict[line['asin']] = -1.0\n",
    "#     else:\n",
    "#         priceDict[line['asin']] = float(line['price'])\n",
    "\n",
    "#sort itemCount\n",
    "mostPopular = [(itemCount[x], x) for x in itemCount]\n",
    "mostPopular.sort()\n",
    "print mostPopular\n",
    "mostPopular.reverse()\n",
    "print '==============================================================\\n\\n'\n",
    "print mostPopular\n",
    "#\n",
    "return1 = set()\n",
    "count = 0\n",
    "#for itemCount, item in mostPopular\n",
    "for ic, i in mostPopular:\n",
    "    count += ic\n",
    "    return1.add(i)\n",
    "    if count > totalPurchases * 0.9: \n",
    "        break\n",
    "# predict according to purchase record\n",
    "count = 0\n",
    "predictions = open(\"./amazon_reviews_Electronics/predictions_Purchase.txt\", 'w')\n",
    "for l in open(\"./amazon_reviews_Electronics/pairs_Purchase.txt\"):\n",
    "    if l.startswith(\"reviewerID\"):\n",
    "        #header\n",
    "        predictions.write(l)\n",
    "        continue\n",
    "    u,i = l.strip().split('-')\n",
    "    if i in return1:\n",
    "        predictions.write(u + '-' + i + \",1\\n\")\n",
    "    else:\n",
    "        predictions.write(u + '-' + i + \",0\\n\")\n",
    "print count\n",
    "predictions.close()"
   ]
  },
  {
   "cell_type": "markdown",
   "metadata": {},
   "source": [
    "predictions_Purchase:\n",
    "* I don't have a very good idea about this task, I've tried to predict cheaper items and high rating items as purchased but it does no better than baseline output.  After correcting the reversed mostpopular items i just change the break point to count > 0.9 * total purchase and it gets better.  Brand could be a useful information but since it's removed so i'm not using it here. "
   ]
  },
  {
   "cell_type": "code",
   "execution_count": 37,
   "metadata": {
    "collapsed": false
   },
   "outputs": [
    {
     "name": "stdout",
     "output_type": "stream",
     "text": [
      "17733\n"
     ]
    }
   ],
   "source": [
    "#####################################\n",
    "#predictions_Helpful\n",
    "#####################################\n",
    "\n",
    "allHelpful = []\n",
    "userHelpful = defaultdict(list)\n",
    "itemRatings = defaultdict(list)\n",
    "itemAverage = defaultdict(list)\n",
    "# read helpful data for each users into dict\n",
    "for l in readJson('./amazon_reviews_Electronics/train.json'):\n",
    "    user,item = l['reviewerID'],l['asin']\n",
    "    allHelpful.append(l['helpful'])\n",
    "    userHelpful[user].append(l['helpful'])\n",
    "    itemRatings[item] += [l['overall']]\n",
    "    \n",
    "# review length and rating for u-i pair\n",
    "helpfulDict = {}\n",
    "for l in readJson('./amazon_reviews_Electronics/helpful.json'):\n",
    "    useritem, rating = l['reviewerID'] + '-' + l['asin'], float(l['overall'])\n",
    "    text_len = len(l['reviewText'])\n",
    "    helpfulDict[useritem] = {'rating':rating, 'text_len':text_len}\n",
    "\n",
    "# calculate avg item ratings    \n",
    "for i in itemRatings:\n",
    "    itemAverage[i] = sum(itemRatings[i]) / len(itemRatings[i])\n",
    "\n",
    "#calculate global avg\n",
    "averageRate = sum([x['nHelpful'] for x in allHelpful]) * 1.0 / sum([x['outOf'] for x in allHelpful])\n",
    "userRate = {}\n",
    "\n",
    "#calculate avg helpful for each user(out of 1)\n",
    "for user in userHelpful:\n",
    "    userRate[user] = sum([x['nHelpful'] for x in userHelpful[user]]) * 1.0 / sum([x['outOf'] for x in userHelpful[user]])\n",
    "\n",
    "#predict helpful according to user avg helpful\n",
    "count = 0\n",
    "predictions = open(\"./amazon_reviews_Electronics/predictions_Helpful.txt\", 'w')\n",
    "for l in open(\"./amazon_reviews_Electronics/pairs_Helpful.txt\"):\n",
    "    if l.startswith(\"reviewerID\"):\n",
    "        #header\n",
    "        predictions.write(l)\n",
    "        continue\n",
    "    u,i,outOf = l.strip().split('-')\n",
    "    useritem = u + '-' + i\n",
    "    outOf = int(outOf)\n",
    "    if outOf == 1:\n",
    "        predictions.write(u + '-' + i + '-' + str(outOf) + ',' + '1.0' + '\\n')\n",
    "    elif i in itemRatings:\n",
    "        tempRate = 1.0\n",
    "        if abs(helpfulDict[useritem]['rating'] - itemAverage[i]) > 1.5:\n",
    "            count += 1\n",
    "            tempRate = 0.8\n",
    "        if abs(helpfulDict[useritem]['rating'] - itemAverage[i]) > 3.0:\n",
    "            tempRate = 0.5\n",
    "        if helpfulDict[useritem]['text_len'] > 2000 or outOf > 50:\n",
    "            tempRate = 0.95\n",
    "        predictions.write(u + '-' + i + '-' + str(outOf) + ',' + str(outOf*tempRate) + '\\n')\n",
    "    elif u in userRate:\n",
    "        predictions.write(u + '-' + i + '-' + str(outOf) + ',' + str(outOf*userRate[u]) + '\\n')\n",
    "    else:\n",
    "        #use global if no reference\n",
    "        predictions.write(u + '-' + i + '-' + str(outOf) + ',' + str(outOf*averageRate) + '\\n')\n",
    "print count\n",
    "predictions.close()"
   ]
  },
  {
   "cell_type": "markdown",
   "metadata": {},
   "source": [
    "predictions_Helpful:\n",
    "* In this task i calculated itemaverage and read the user's rating in helpful.json and compare the user's rating and the average rating of the item.  I think with the different gets bigger less people will likely to consider his review as useful.  Also I find out the more people reviewed the user's review the more would be \"helpful\".  And I also predicted those reviews with a text length more than 2000 would receive most of the reviews as \"helpful\", since it's not easy to write all these just for a online shopping review(At least i would give him a thumbs up).  For those items that has no item average, I used user average for that and if there is neither uesr average nor item average, I just use the global average for that."
   ]
  },
  {
   "cell_type": "markdown",
   "metadata": {},
   "source": [
    "## Grading and Evaluation"
   ]
  },
  {
   "cell_type": "markdown",
   "metadata": {},
   "source": [
    "You will be graded on the following aspects.\n",
    "\n",
    "* Your written report. This should describe the approaches you took to each of the 3 tasks. To obtain good performance, you should not need to invent new approaches (though you are more than welcome to) but rather you will be graded based on your decision to apply reasonable approaches to each of the given tasks. (**10pts** for each task)\n",
    "\n",
    "* Your ability to obtain a solution which outperforms the baselines on the unseen portion of the test data. Obtaining full marks requires a solution which is substantially better (at least several percent) than baseline performance. (**10pts** for each task)\n",
    "\n",
    "* Your ranking for each of the three tasks compared to other students in the class. (**5pts** for each task)\n",
    "\n",
    "* Obtain a solution which outperforms the baselines on the seen portion of the test data (the leaderboard). \n",
    "(**5pts** for each task)"
   ]
  },
  {
   "cell_type": "markdown",
   "metadata": {},
   "source": [
    "## Baselines"
   ]
  },
  {
   "cell_type": "markdown",
   "metadata": {},
   "source": [
    "Simple baselines have been provided for each of the 3 tasks. These are included in 'baselines.py' among the files above. These 3 baselines operate as follows:\n",
    "\n",
    "**Rating prediction** Returns the global average rating, or the user's average if you have seen them before in the training data.\n",
    "\n",
    "**Purchase prediction** Finds the most popular products that account for 50% of purchases in the training data. Return '1' whenever such a product is seen at test time, '0' otherwise.\n",
    "\n",
    "** Helpfulness prediction** Multiplies the number of votes by the global average helpfulness rate, or the user's rate if we saw this user in the training data.\n",
    "\n",
    "Running 'baseline.py' produces 3 files containing predicted outputs. Your submission files should have the same format."
   ]
  },
  {
   "cell_type": "markdown",
   "metadata": {},
   "source": [
    "## Dataset Citation"
   ]
  },
  {
   "cell_type": "markdown",
   "metadata": {},
   "source": [
    "**Image-based recommendations on styles and substitutes** J. McAuley, C. Targett, J. Shi, A. van den Hengel *SIGIR*, 2015\n",
    "\n",
    "**Inferring networks of substitutable and complementary products** J. McAuley, R. Pandey, J. Leskovec *Knowledge Discovery and Data Mining*, 2015"
   ]
  },
  {
   "cell_type": "markdown",
   "metadata": {},
   "source": [
    "-----------------"
   ]
  },
  {
   "cell_type": "code",
   "execution_count": null,
   "metadata": {
    "collapsed": true
   },
   "outputs": [],
   "source": []
  },
  {
   "cell_type": "code",
   "execution_count": null,
   "metadata": {
    "collapsed": false
   },
   "outputs": [],
   "source": [
    "# Code for setting the style of the notebook\n",
    "from IPython.core.display import HTML\n",
    "def css_styling():\n",
    "    styles = open(\"../theme/custom.css\", \"r\").read()\n",
    "    return HTML(styles)\n",
    "css_styling()"
   ]
  }
 ],
 "metadata": {
  "kernelspec": {
   "display_name": "Python 2",
   "language": "python",
   "name": "python2"
  },
  "language_info": {
   "codemirror_mode": {
    "name": "ipython",
    "version": 2
   },
   "file_extension": ".py",
   "mimetype": "text/x-python",
   "name": "python",
   "nbconvert_exporter": "python",
   "pygments_lexer": "ipython2",
   "version": "2.7.11"
  }
 },
 "nbformat": 4,
 "nbformat_minor": 0
}
